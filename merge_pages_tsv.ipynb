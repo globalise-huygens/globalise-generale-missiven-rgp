{
 "cells": [
  {
   "cell_type": "markdown",
   "id": "cd092ca8-3706-4637-ad97-ea82e91283b5",
   "metadata": {},
   "source": [
    "Code to merge the text contained in txt files (one per page) into a tsv file (one per volume) with, per line, the earliest year from which the text could date, the latest year, the file where the text comes from (volume_page), and the text of the page."
   ]
  },
  {
   "cell_type": "code",
   "execution_count": null,
   "id": "85a82018-a88f-4762-b78c-e18bf2d2b560",
   "metadata": {},
   "outputs": [],
   "source": [
    "import os\n",
    "\n",
    "# Define the folder names and corresponding start/end years\n",
    "folders = {\n",
    "    'GM1': {'start_year': 1610, 'end_year': 1638},\n",
    "    'GM2': {'start_year': 1639, 'end_year': 1655},\n",
    "    'GM3': {'start_year': 1656, 'end_year': 1674},\n",
    "    'GM4': {'start_year': 1675, 'end_year': 1685},\n",
    "    'GM5': {'start_year': 1686, 'end_year': 1697},\n",
    "    'GM6': {'start_year': 1698, 'end_year': 1713},\n",
    "    'GM7': {'start_year': 1713, 'end_year': 1724},\n",
    "    'GM8': {'start_year': 1725, 'end_year': 1729},\n",
    "    'GM9': {'start_year': 1729, 'end_year': 1737},\n",
    "    'GM10': {'start_year': 1737, 'end_year': 1743},\n",
    "    'GM11': {'start_year': 1743, 'end_year': 1750},\n",
    "    'GM12': {'start_year': 1750, 'end_year': 1755},\n",
    "    'GM13': {'start_year': 1756, 'end_year': 1761},\n",
    "    'GM14': {'start_year': 1761, 'end_year': 1767}\n",
    "}\n",
    "\n",
    "output_folder = 'TSV_files'  # Folder to store the output TSV files\n",
    "\n",
    "if not os.path.exists(output_folder):\n",
    "    os.makedirs(output_folder)\n",
    "\n",
    "base_folder = 'txt'  # Subdirectory containing the GM1, GM2, ..., GM14 folders\n",
    "\n",
    "for folder_name, years in folders.items():\n",
    "    folder_path = os.path.join(base_folder, folder_name)\n",
    "    output_file = os.path.join(output_folder, folder_name + '.tsv')\n",
    "\n",
    "    with open(output_file, 'w', encoding='utf-8') as tsv_file:\n",
    "        tsv_file.write(\"start_year\\tend_year\\tFile\\tText\\n\")  # Header line\n",
    "\n",
    "        for filename in os.listdir(folder_path):\n",
    "            if filename.endswith(\".txt\"):\n",
    "                file_path = os.path.join(folder_path, filename)\n",
    "                page_number = filename.split(\"_\")[1].split(\".\")[0]\n",
    "                file_name = folder_name + \"_\" + page_number\n",
    "\n",
    "                with open(file_path, 'r', encoding='utf-8') as txt_file:\n",
    "                    text = txt_file.read().replace('\\n', ' ').replace('\\t', ' ')\n",
    "\n",
    "                line = f\"{years['start_year']}\\t{years['end_year']}\\t{file_name}\\t{text}\\n\"\n",
    "                tsv_file.write(line)\n"
   ]
  },
  {
   "cell_type": "markdown",
   "id": "cdfb3052-0210-4e63-9e47-aea26452a07f",
   "metadata": {},
   "source": [
    "Same as above, now retaining the line breaks in the individual files ('\\n')"
   ]
  },
  {
   "cell_type": "code",
   "execution_count": null,
   "id": "7ab1be65-792b-40af-b54e-bafea80894ca",
   "metadata": {},
   "outputs": [],
   "source": [
    "import os\n",
    "\n",
    "# Define the folder names and corresponding start/end years\n",
    "folders = {\n",
    "    'GM1': {'start_year': 1610, 'end_year': 1638},\n",
    "    'GM2': {'start_year': 1639, 'end_year': 1655},\n",
    "    'GM3': {'start_year': 1656, 'end_year': 1674},\n",
    "    'GM4': {'start_year': 1675, 'end_year': 1685},\n",
    "    'GM5': {'start_year': 1686, 'end_year': 1697},\n",
    "    'GM6': {'start_year': 1698, 'end_year': 1713},\n",
    "    'GM7': {'start_year': 1713, 'end_year': 1724},\n",
    "    'GM8': {'start_year': 1725, 'end_year': 1729},\n",
    "    'GM9': {'start_year': 1729, 'end_year': 1737},\n",
    "    'GM10': {'start_year': 1737, 'end_year': 1743},\n",
    "    'GM11': {'start_year': 1743, 'end_year': 1750},\n",
    "    'GM12': {'start_year': 1750, 'end_year': 1755},\n",
    "    'GM13': {'start_year': 1756, 'end_year': 1761},\n",
    "    'GM14': {'start_year': 1761, 'end_year': 1767}\n",
    "}\n",
    "\n",
    "output_folder = 'TSV_files_linebreaks'  # Folder to store the output TSV files\n",
    "\n",
    "if not os.path.exists(output_folder):\n",
    "    os.makedirs(output_folder)\n",
    "\n",
    "base_folder = 'txt'  # Subdirectory containing the GM1, GM2, ..., GM14 folders\n",
    "\n",
    "for folder_name, years in folders.items():\n",
    "    folder_path = os.path.join(base_folder, folder_name)\n",
    "    output_file = os.path.join(output_folder, folder_name + '.tsv')\n",
    "\n",
    "    with open(output_file, 'w', encoding='utf-8') as tsv_file:\n",
    "        tsv_file.write(\"start_year\\tend_year\\tFile\\tText\\n\")  # Header line\n",
    "\n",
    "        for filename in os.listdir(folder_path):\n",
    "            if filename.endswith(\".txt\"):\n",
    "                file_path = os.path.join(folder_path, filename)\n",
    "                page_number = filename.split(\"_\")[1].split(\".\")[0]\n",
    "                file_name = folder_name + \"_\" + page_number\n",
    "\n",
    "                with open(file_path, 'r', encoding='utf-8') as txt_file:\n",
    "                    text = txt_file.read().replace('\\n', ' \\\\n ').replace('\\t', ' ')\n",
    "\n",
    "                line = f\"{years['start_year']}\\t{years['end_year']}\\t{file_name}\\t{text}\\n\"\n",
    "                tsv_file.write(line)\n"
   ]
  }
 ],
 "metadata": {
  "kernelspec": {
   "display_name": "Python 3 (ipykernel)",
   "language": "python",
   "name": "python3"
  },
  "language_info": {
   "codemirror_mode": {
    "name": "ipython",
    "version": 3
   },
   "file_extension": ".py",
   "mimetype": "text/x-python",
   "name": "python",
   "nbconvert_exporter": "python",
   "pygments_lexer": "ipython3",
   "version": "3.10.9"
  }
 },
 "nbformat": 4,
 "nbformat_minor": 5
}
